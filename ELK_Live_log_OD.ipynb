{
  "cells": [
    {
      "cell_type": "code",
      "execution_count": null,
      "id": "b10fb98c",
      "metadata": {
        "id": "b10fb98c"
      },
      "outputs": [],
      "source": [
        "import elasticsearch\n",
        "from elasticsearch import Elasticsearch"
      ]
    },
    {
      "cell_type": "code",
      "execution_count": null,
      "id": "06e54272",
      "metadata": {
        "id": "06e54272"
      },
      "outputs": [],
      "source": [
        "es = Elasticsearch([{'host':'localhost','port':9200}])"
      ]
    },
    {
      "cell_type": "code",
      "execution_count": null,
      "id": "5ffab17f",
      "metadata": {
        "scrolled": true,
        "id": "5ffab17f",
        "outputId": "f181aa1f-cb14-4a4b-f38c-c10461e9b628"
      },
      "outputs": [
        {
          "name": "stdout",
          "output_type": "stream",
          "text": [
            "Connected\n"
          ]
        },
        {
          "name": "stderr",
          "output_type": "stream",
          "text": [
            "/home/hitesh/Desktop/pyod_project/tasl/lib/python3.8/site-packages/elasticsearch/connection/base.py:208: ElasticsearchWarning: Elasticsearch built-in security features are not enabled. Without authentication, your cluster could be accessible to anyone. See https://www.elastic.co/guide/en/elasticsearch/reference/7.13/security-minimal-setup.html to enable security.\n",
            "  warnings.warn(message, category=ElasticsearchWarning)\n"
          ]
        }
      ],
      "source": [
        "if es.ping():\n",
        "    print('Connected') "
      ]
    },
    {
      "cell_type": "code",
      "execution_count": null,
      "id": "51347c2f",
      "metadata": {
        "id": "51347c2f"
      },
      "outputs": [],
      "source": [
        "#collecting yesterday log data and use it for training\n",
        "from datetime import datetime,timedelta\n",
        "yesterday = datetime.now()-timedelta(1)\n",
        "today =datetime.today().strftime('%Y.%m.%d')"
      ]
    },
    {
      "cell_type": "code",
      "execution_count": null,
      "id": "c08d8f7f",
      "metadata": {
        "id": "c08d8f7f"
      },
      "outputs": [],
      "source": [
        ""
      ]
    },
    {
      "cell_type": "code",
      "execution_count": null,
      "id": "5fa5665d",
      "metadata": {
        "id": "5fa5665d"
      },
      "outputs": [],
      "source": [
        "import pandas as pd\n",
        "import numpy as np\n",
        "\n",
        "# Import models\n",
        "from pyod.models.abod import ABOD\n",
        "from pyod.models.cblof import CBLOF\n",
        "# from pyod.models.feature_bagging import FeatureBagging\n",
        "from pyod.models.hbos import HBOS\n",
        "from pyod.models.iforest import IForest\n",
        "from pyod.models.knn import KNN\n",
        "from pyod.models.lof import LOF"
      ]
    },
    {
      "cell_type": "code",
      "execution_count": null,
      "id": "e6f4c81e",
      "metadata": {
        "id": "e6f4c81e"
      },
      "outputs": [],
      "source": [
        "from sklearn.preprocessing import MinMaxScaler\n",
        "from sklearn.preprocessing import StandardScaler\n",
        "from sklearn.decomposition import PCA\n",
        "import matplotlib.pyplot as plt\n",
        "from scipy import stats\n",
        "from numpy import percentile\n",
        "from joblib import dump, load"
      ]
    },
    {
      "cell_type": "code",
      "execution_count": null,
      "id": "f48655ae",
      "metadata": {
        "id": "f48655ae",
        "outputId": "8c22bd17-a498-45de-bb15-8e499e25b0f5"
      },
      "outputs": [
        {
          "name": "stderr",
          "output_type": "stream",
          "text": [
            "/home/hitesh/Desktop/pyod_project/tasl/lib/python3.8/site-packages/elasticsearch/connection/base.py:208: ElasticsearchWarning: Elasticsearch built-in security features are not enabled. Without authentication, your cluster could be accessible to anyone. See https://www.elastic.co/guide/en/elasticsearch/reference/7.13/security-minimal-setup.html to enable security.\n",
            "  warnings.warn(message, category=ElasticsearchWarning)\n"
          ]
        }
      ],
      "source": [
        "import json\n",
        "from elasticsearch.helpers import scan\n",
        "rest = scan(es,index=\"logstash-\"+(datetime.strftime(yesterday,'%Y.%m.%d')),query={\"query\":{\"match_all\" : {}}})\n",
        "train_log=list()\n",
        "for item in rest:\n",
        "    if item!=0:\n",
        "        train_log.append(item[\"_source\"][\"message\"])\n",
        "    else:\n",
        "        pas\n",
        "    #print(op['_source']['message'])"
      ]
    },
    {
      "cell_type": "code",
      "execution_count": null,
      "id": "0a250e35",
      "metadata": {
        "id": "0a250e35"
      },
      "outputs": [],
      "source": [
        "import pycef\n",
        "parsed_train_log=list()\n",
        "for i in train_log:\n",
        "    op = pycef.parse(i)\n",
        "    parsed_train_log.append(op)"
      ]
    },
    {
      "cell_type": "code",
      "execution_count": null,
      "id": "872b1d7f",
      "metadata": {
        "id": "872b1d7f"
      },
      "outputs": [],
      "source": [
        "train_df_ini = pd.DataFrame(parsed_train_log)\n",
        "train_df_ini.to_csv(\"train.csv\")"
      ]
    },
    {
      "cell_type": "code",
      "execution_count": null,
      "id": "41bcaa1d",
      "metadata": {
        "id": "41bcaa1d",
        "outputId": "dd1b7250-e0fa-467b-f616-6fafc80042fc"
      },
      "outputs": [
        {
          "name": "stdout",
          "output_type": "stream",
          "text": [
            "<class 'pandas.core.frame.DataFrame'>\n"
          ]
        }
      ],
      "source": [
        "print(type(train_df_ini))"
      ]
    },
    {
      "cell_type": "code",
      "execution_count": null,
      "id": "af12070a",
      "metadata": {
        "id": "af12070a"
      },
      "outputs": [],
      "source": [
        "from sklearn import preprocessing\n",
        "le = preprocessing.LabelEncoder()\n",
        "def data_preproc (tempdf):\n",
        "    tempdf = tempdf.apply(le.fit_transform)\n",
        "    return tempdf"
      ]
    },
    {
      "cell_type": "code",
      "execution_count": null,
      "id": "4b529bd8",
      "metadata": {
        "scrolled": true,
        "id": "4b529bd8"
      },
      "outputs": [],
      "source": [
        "dft = data_preproc(train_df_ini)"
      ]
    },
    {
      "cell_type": "code",
      "execution_count": null,
      "id": "45489053",
      "metadata": {
        "scrolled": true,
        "id": "45489053",
        "outputId": "7de71d5a-5f9c-494b-fede-d22820998a00"
      },
      "outputs": [
        {
          "data": {
            "text/html": [
              "<div>\n",
              "<style scoped>\n",
              "    .dataframe tbody tr th:only-of-type {\n",
              "        vertical-align: middle;\n",
              "    }\n",
              "\n",
              "    .dataframe tbody tr th {\n",
              "        vertical-align: top;\n",
              "    }\n",
              "\n",
              "    .dataframe thead th {\n",
              "        text-align: right;\n",
              "    }\n",
              "</style>\n",
              "<table border=\"1\" class=\"dataframe\">\n",
              "  <thead>\n",
              "    <tr style=\"text-align: right;\">\n",
              "      <th></th>\n",
              "      <th>DeviceVendor</th>\n",
              "      <th>DeviceProduct</th>\n",
              "      <th>DeviceVersion</th>\n",
              "      <th>DeviceEventClassID</th>\n",
              "      <th>Name</th>\n",
              "      <th>DeviceName</th>\n",
              "      <th>Severity</th>\n",
              "      <th>DeviceSeverity</th>\n",
              "      <th>CEFVersion</th>\n",
              "      <th>eventId</th>\n",
              "      <th>...</th>\n",
              "      <th>ad.HomePath</th>\n",
              "      <th>ad.UserPrincipalName</th>\n",
              "      <th>ad.AllowedToDelegateTo</th>\n",
              "      <th>ad.UserWorkstations</th>\n",
              "      <th>Account Domain and Name</th>\n",
              "      <th>ad.Dummy</th>\n",
              "      <th>Old User Account Control Value</th>\n",
              "      <th>New User Account Control Value</th>\n",
              "      <th>Changes in User Account Control</th>\n",
              "      <th>Reason or Error Code</th>\n",
              "    </tr>\n",
              "  </thead>\n",
              "  <tbody>\n",
              "    <tr>\n",
              "      <th>0</th>\n",
              "      <td>1</td>\n",
              "      <td>1</td>\n",
              "      <td>1</td>\n",
              "      <td>16</td>\n",
              "      <td>4</td>\n",
              "      <td>4</td>\n",
              "      <td>1</td>\n",
              "      <td>1</td>\n",
              "      <td>0</td>\n",
              "      <td>69</td>\n",
              "      <td>...</td>\n",
              "      <td>1</td>\n",
              "      <td>1</td>\n",
              "      <td>1</td>\n",
              "      <td>1</td>\n",
              "      <td>3</td>\n",
              "      <td>1</td>\n",
              "      <td>1</td>\n",
              "      <td>1</td>\n",
              "      <td>1</td>\n",
              "      <td>1</td>\n",
              "    </tr>\n",
              "    <tr>\n",
              "      <th>1</th>\n",
              "      <td>1</td>\n",
              "      <td>1</td>\n",
              "      <td>1</td>\n",
              "      <td>16</td>\n",
              "      <td>4</td>\n",
              "      <td>4</td>\n",
              "      <td>1</td>\n",
              "      <td>1</td>\n",
              "      <td>0</td>\n",
              "      <td>70</td>\n",
              "      <td>...</td>\n",
              "      <td>1</td>\n",
              "      <td>1</td>\n",
              "      <td>1</td>\n",
              "      <td>1</td>\n",
              "      <td>3</td>\n",
              "      <td>1</td>\n",
              "      <td>1</td>\n",
              "      <td>1</td>\n",
              "      <td>1</td>\n",
              "      <td>1</td>\n",
              "    </tr>\n",
              "    <tr>\n",
              "      <th>2</th>\n",
              "      <td>1</td>\n",
              "      <td>1</td>\n",
              "      <td>1</td>\n",
              "      <td>16</td>\n",
              "      <td>4</td>\n",
              "      <td>4</td>\n",
              "      <td>1</td>\n",
              "      <td>1</td>\n",
              "      <td>0</td>\n",
              "      <td>71</td>\n",
              "      <td>...</td>\n",
              "      <td>1</td>\n",
              "      <td>1</td>\n",
              "      <td>1</td>\n",
              "      <td>1</td>\n",
              "      <td>3</td>\n",
              "      <td>1</td>\n",
              "      <td>1</td>\n",
              "      <td>1</td>\n",
              "      <td>1</td>\n",
              "      <td>1</td>\n",
              "    </tr>\n",
              "    <tr>\n",
              "      <th>3</th>\n",
              "      <td>1</td>\n",
              "      <td>1</td>\n",
              "      <td>1</td>\n",
              "      <td>16</td>\n",
              "      <td>4</td>\n",
              "      <td>4</td>\n",
              "      <td>1</td>\n",
              "      <td>1</td>\n",
              "      <td>0</td>\n",
              "      <td>72</td>\n",
              "      <td>...</td>\n",
              "      <td>1</td>\n",
              "      <td>1</td>\n",
              "      <td>1</td>\n",
              "      <td>1</td>\n",
              "      <td>3</td>\n",
              "      <td>1</td>\n",
              "      <td>1</td>\n",
              "      <td>1</td>\n",
              "      <td>1</td>\n",
              "      <td>1</td>\n",
              "    </tr>\n",
              "    <tr>\n",
              "      <th>4</th>\n",
              "      <td>1</td>\n",
              "      <td>1</td>\n",
              "      <td>1</td>\n",
              "      <td>16</td>\n",
              "      <td>4</td>\n",
              "      <td>4</td>\n",
              "      <td>1</td>\n",
              "      <td>1</td>\n",
              "      <td>0</td>\n",
              "      <td>73</td>\n",
              "      <td>...</td>\n",
              "      <td>1</td>\n",
              "      <td>1</td>\n",
              "      <td>1</td>\n",
              "      <td>1</td>\n",
              "      <td>3</td>\n",
              "      <td>1</td>\n",
              "      <td>1</td>\n",
              "      <td>1</td>\n",
              "      <td>1</td>\n",
              "      <td>1</td>\n",
              "    </tr>\n",
              "    <tr>\n",
              "      <th>...</th>\n",
              "      <td>...</td>\n",
              "      <td>...</td>\n",
              "      <td>...</td>\n",
              "      <td>...</td>\n",
              "      <td>...</td>\n",
              "      <td>...</td>\n",
              "      <td>...</td>\n",
              "      <td>...</td>\n",
              "      <td>...</td>\n",
              "      <td>...</td>\n",
              "      <td>...</td>\n",
              "      <td>...</td>\n",
              "      <td>...</td>\n",
              "      <td>...</td>\n",
              "      <td>...</td>\n",
              "      <td>...</td>\n",
              "      <td>...</td>\n",
              "      <td>...</td>\n",
              "      <td>...</td>\n",
              "      <td>...</td>\n",
              "      <td>...</td>\n",
              "    </tr>\n",
              "    <tr>\n",
              "      <th>96443</th>\n",
              "      <td>1</td>\n",
              "      <td>1</td>\n",
              "      <td>2</td>\n",
              "      <td>13</td>\n",
              "      <td>12</td>\n",
              "      <td>12</td>\n",
              "      <td>1</td>\n",
              "      <td>1</td>\n",
              "      <td>0</td>\n",
              "      <td>96439</td>\n",
              "      <td>...</td>\n",
              "      <td>1</td>\n",
              "      <td>1</td>\n",
              "      <td>1</td>\n",
              "      <td>1</td>\n",
              "      <td>3</td>\n",
              "      <td>1</td>\n",
              "      <td>1</td>\n",
              "      <td>1</td>\n",
              "      <td>1</td>\n",
              "      <td>1</td>\n",
              "    </tr>\n",
              "    <tr>\n",
              "      <th>96444</th>\n",
              "      <td>1</td>\n",
              "      <td>1</td>\n",
              "      <td>2</td>\n",
              "      <td>18</td>\n",
              "      <td>34</td>\n",
              "      <td>34</td>\n",
              "      <td>1</td>\n",
              "      <td>1</td>\n",
              "      <td>0</td>\n",
              "      <td>96440</td>\n",
              "      <td>...</td>\n",
              "      <td>1</td>\n",
              "      <td>1</td>\n",
              "      <td>1</td>\n",
              "      <td>1</td>\n",
              "      <td>3</td>\n",
              "      <td>1</td>\n",
              "      <td>1</td>\n",
              "      <td>1</td>\n",
              "      <td>1</td>\n",
              "      <td>1</td>\n",
              "    </tr>\n",
              "    <tr>\n",
              "      <th>96445</th>\n",
              "      <td>1</td>\n",
              "      <td>1</td>\n",
              "      <td>2</td>\n",
              "      <td>47</td>\n",
              "      <td>32</td>\n",
              "      <td>32</td>\n",
              "      <td>1</td>\n",
              "      <td>1</td>\n",
              "      <td>0</td>\n",
              "      <td>96445</td>\n",
              "      <td>...</td>\n",
              "      <td>1</td>\n",
              "      <td>1</td>\n",
              "      <td>1</td>\n",
              "      <td>1</td>\n",
              "      <td>3</td>\n",
              "      <td>1</td>\n",
              "      <td>1</td>\n",
              "      <td>1</td>\n",
              "      <td>1</td>\n",
              "      <td>1</td>\n",
              "    </tr>\n",
              "    <tr>\n",
              "      <th>96446</th>\n",
              "      <td>1</td>\n",
              "      <td>1</td>\n",
              "      <td>2</td>\n",
              "      <td>48</td>\n",
              "      <td>36</td>\n",
              "      <td>36</td>\n",
              "      <td>1</td>\n",
              "      <td>1</td>\n",
              "      <td>0</td>\n",
              "      <td>96446</td>\n",
              "      <td>...</td>\n",
              "      <td>1</td>\n",
              "      <td>1</td>\n",
              "      <td>1</td>\n",
              "      <td>1</td>\n",
              "      <td>3</td>\n",
              "      <td>1</td>\n",
              "      <td>1</td>\n",
              "      <td>1</td>\n",
              "      <td>1</td>\n",
              "      <td>1</td>\n",
              "    </tr>\n",
              "    <tr>\n",
              "      <th>96447</th>\n",
              "      <td>1</td>\n",
              "      <td>1</td>\n",
              "      <td>2</td>\n",
              "      <td>47</td>\n",
              "      <td>32</td>\n",
              "      <td>32</td>\n",
              "      <td>1</td>\n",
              "      <td>1</td>\n",
              "      <td>0</td>\n",
              "      <td>96447</td>\n",
              "      <td>...</td>\n",
              "      <td>1</td>\n",
              "      <td>1</td>\n",
              "      <td>1</td>\n",
              "      <td>1</td>\n",
              "      <td>3</td>\n",
              "      <td>1</td>\n",
              "      <td>1</td>\n",
              "      <td>1</td>\n",
              "      <td>1</td>\n",
              "      <td>1</td>\n",
              "    </tr>\n",
              "  </tbody>\n",
              "</table>\n",
              "<p>96448 rows × 171 columns</p>\n",
              "</div>"
            ],
            "text/plain": [
              "       DeviceVendor  DeviceProduct  DeviceVersion  DeviceEventClassID  Name  \\\n",
              "0                 1              1              1                  16     4   \n",
              "1                 1              1              1                  16     4   \n",
              "2                 1              1              1                  16     4   \n",
              "3                 1              1              1                  16     4   \n",
              "4                 1              1              1                  16     4   \n",
              "...             ...            ...            ...                 ...   ...   \n",
              "96443             1              1              2                  13    12   \n",
              "96444             1              1              2                  18    34   \n",
              "96445             1              1              2                  47    32   \n",
              "96446             1              1              2                  48    36   \n",
              "96447             1              1              2                  47    32   \n",
              "\n",
              "       DeviceName  Severity  DeviceSeverity  CEFVersion  eventId  ...  \\\n",
              "0               4         1               1           0       69  ...   \n",
              "1               4         1               1           0       70  ...   \n",
              "2               4         1               1           0       71  ...   \n",
              "3               4         1               1           0       72  ...   \n",
              "4               4         1               1           0       73  ...   \n",
              "...           ...       ...             ...         ...      ...  ...   \n",
              "96443          12         1               1           0    96439  ...   \n",
              "96444          34         1               1           0    96440  ...   \n",
              "96445          32         1               1           0    96445  ...   \n",
              "96446          36         1               1           0    96446  ...   \n",
              "96447          32         1               1           0    96447  ...   \n",
              "\n",
              "       ad.HomePath  ad.UserPrincipalName  ad.AllowedToDelegateTo  \\\n",
              "0                1                     1                       1   \n",
              "1                1                     1                       1   \n",
              "2                1                     1                       1   \n",
              "3                1                     1                       1   \n",
              "4                1                     1                       1   \n",
              "...            ...                   ...                     ...   \n",
              "96443            1                     1                       1   \n",
              "96444            1                     1                       1   \n",
              "96445            1                     1                       1   \n",
              "96446            1                     1                       1   \n",
              "96447            1                     1                       1   \n",
              "\n",
              "       ad.UserWorkstations  Account Domain and Name  ad.Dummy  \\\n",
              "0                        1                        3         1   \n",
              "1                        1                        3         1   \n",
              "2                        1                        3         1   \n",
              "3                        1                        3         1   \n",
              "4                        1                        3         1   \n",
              "...                    ...                      ...       ...   \n",
              "96443                    1                        3         1   \n",
              "96444                    1                        3         1   \n",
              "96445                    1                        3         1   \n",
              "96446                    1                        3         1   \n",
              "96447                    1                        3         1   \n",
              "\n",
              "       Old User Account Control Value  New User Account Control Value  \\\n",
              "0                                   1                               1   \n",
              "1                                   1                               1   \n",
              "2                                   1                               1   \n",
              "3                                   1                               1   \n",
              "4                                   1                               1   \n",
              "...                               ...                             ...   \n",
              "96443                               1                               1   \n",
              "96444                               1                               1   \n",
              "96445                               1                               1   \n",
              "96446                               1                               1   \n",
              "96447                               1                               1   \n",
              "\n",
              "       Changes in User Account Control  Reason or Error Code  \n",
              "0                                    1                     1  \n",
              "1                                    1                     1  \n",
              "2                                    1                     1  \n",
              "3                                    1                     1  \n",
              "4                                    1                     1  \n",
              "...                                ...                   ...  \n",
              "96443                                1                     1  \n",
              "96444                                1                     1  \n",
              "96445                                1                     1  \n",
              "96446                                1                     1  \n",
              "96447                                1                     1  \n",
              "\n",
              "[96448 rows x 171 columns]"
            ]
          },
          "execution_count": 15,
          "metadata": {},
          "output_type": "execute_result"
        }
      ],
      "source": [
        "dft"
      ]
    },
    {
      "cell_type": "code",
      "execution_count": null,
      "id": "b64f8495",
      "metadata": {
        "id": "b64f8495"
      },
      "outputs": [],
      "source": [
        "def if_train(tempdf):\n",
        "  scaler=StandardScaler()\n",
        "  scaler.fit(tempdf)\n",
        "  scaled_data=scaler.transform(tempdf)\n",
        "  pca=PCA(n_components=2)\n",
        "  pca.fit(scaled_data)\n",
        "  x_pca = pca.transform(scaled_data)\n",
        "  tempdf = pd.DataFrame(data = x_pca, index = list(range(0,len(x_pca[:,0]))), columns = [\"prop1\",\"prop2\"])\n",
        "  X1 = tempdf['prop1'].values.reshape(-1,1)\n",
        "  X2 = tempdf['prop2'].values.reshape(-1,1)\n",
        "  X = np.concatenate((X1,X2),axis=1)\n",
        "  clf =IForest(contamination=0.05,random_state=0)\n",
        "  clf.fit(X)\n",
        "  dump(clf, 'if.joblib')"
      ]
    },
    {
      "cell_type": "code",
      "execution_count": null,
      "id": "f9086e38",
      "metadata": {
        "id": "f9086e38"
      },
      "outputs": [],
      "source": [
        "if_train(dft)"
      ]
    },
    {
      "cell_type": "code",
      "execution_count": null,
      "id": "b828b5f8",
      "metadata": {
        "scrolled": true,
        "id": "b828b5f8",
        "outputId": "15ac5861-b697-4f04-8546-b8531a30e046"
      },
      "outputs": [
        {
          "name": "stderr",
          "output_type": "stream",
          "text": [
            "/home/hitesh/Desktop/pyod_project/tasl/lib/python3.8/site-packages/elasticsearch/connection/base.py:208: ElasticsearchWarning: Elasticsearch built-in security features are not enabled. Without authentication, your cluster could be accessible to anyone. See https://www.elastic.co/guide/en/elasticsearch/reference/7.13/security-minimal-setup.html to enable security.\n",
            "  warnings.warn(message, category=ElasticsearchWarning)\n"
          ]
        },
        {
          "data": {
            "text/plain": [
              "{'count': 34015,\n",
              " '_shards': {'total': 1, 'successful': 1, 'skipped': 0, 'failed': 0}}"
            ]
          },
          "execution_count": 18,
          "metadata": {},
          "output_type": "execute_result"
        }
      ],
      "source": [
        "es.indices.refresh(index=\"logstash-\"+(datetime.today().strftime('%Y.%m.%d')))\n",
        "es.count(index=\"logstash-\"+(datetime.today().strftime('%Y.%m.%d')),body='{\"query\":{\"match_all\":{}}}')"
      ]
    },
    {
      "cell_type": "code",
      "execution_count": null,
      "id": "bb89f905",
      "metadata": {
        "id": "bb89f905"
      },
      "outputs": [],
      "source": [
        "yes_count = es.count(index=\"logstash-\"+(datetime.today().strftime('%Y.%m.%d')),body='{\"query\":{\"match_all\":{}}}')['count']"
      ]
    },
    {
      "cell_type": "code",
      "execution_count": null,
      "id": "54923cf2",
      "metadata": {
        "id": "54923cf2",
        "outputId": "be67bb8e-fcad-40a1-cf2e-74cd27b1770a"
      },
      "outputs": [
        {
          "name": "stdout",
          "output_type": "stream",
          "text": [
            "34015\n"
          ]
        }
      ],
      "source": [
        "print(yes_count)"
      ]
    },
    {
      "cell_type": "code",
      "execution_count": null,
      "id": "26020c26",
      "metadata": {
        "id": "26020c26"
      },
      "outputs": [],
      "source": [
        "import json\n",
        "from elasticsearch.helpers import scan\n",
        "\n",
        "res = scan(es,index=\"logstash-\"+(datetime.today().strftime('%Y.%m.%d')),query={\"query\":{\"match_all\" : {}}})\n",
        "input_log=list()\n",
        "for item in res:\n",
        "    if item!=0:\n",
        "        input_log.append(item[\"_source\"][\"message\"])\n",
        "    else:\n",
        "        pass\n",
        "    #print(op['_source']['message'])"
      ]
    },
    {
      "cell_type": "code",
      "execution_count": null,
      "id": "52663570",
      "metadata": {
        "id": "52663570"
      },
      "outputs": [],
      "source": [
        "import pandas as pd\n",
        "inp_df = pd.DataFrame(input_log)"
      ]
    },
    {
      "cell_type": "code",
      "execution_count": null,
      "id": "1e41d906",
      "metadata": {
        "id": "1e41d906",
        "outputId": "3d5a1d9a-f25c-4193-a1a1-9b8b38e5343f"
      },
      "outputs": [
        {
          "name": "stdout",
          "output_type": "stream",
          "text": [
            "<class 'pandas.core.frame.DataFrame'>\n"
          ]
        }
      ],
      "source": [
        "print(type(inp_df))"
      ]
    },
    {
      "cell_type": "code",
      "execution_count": null,
      "id": "7c69050a",
      "metadata": {
        "id": "7c69050a"
      },
      "outputs": [],
      "source": [
        "import pycef\n",
        "parsed_inp_log=list()\n",
        "for i in input_log:\n",
        "    op = pycef.parse(i)\n",
        "    parsed_inp_log.append(op)"
      ]
    },
    {
      "cell_type": "code",
      "execution_count": null,
      "id": "6687d84d",
      "metadata": {
        "id": "6687d84d",
        "outputId": "385d8c3e-b2ce-4748-8450-673f90707b3e"
      },
      "outputs": [
        {
          "name": "stdout",
          "output_type": "stream",
          "text": [
            "34015\n"
          ]
        }
      ],
      "source": [
        "print(len(parsed_inp_log))"
      ]
    },
    {
      "cell_type": "code",
      "execution_count": null,
      "id": "9a5700be",
      "metadata": {
        "id": "9a5700be"
      },
      "outputs": [],
      "source": [
        "inp = pd.DataFrame(parsed_inp_log)\n",
        "inp.to_csv(\"input.csv\")"
      ]
    },
    {
      "cell_type": "code",
      "execution_count": null,
      "id": "1fca6d36",
      "metadata": {
        "id": "1fca6d36",
        "outputId": "a2059a88-7e14-40bb-cb43-245eac7c2f9a"
      },
      "outputs": [
        {
          "name": "stdout",
          "output_type": "stream",
          "text": [
            "34015\n"
          ]
        }
      ],
      "source": [
        "print(len(inp))"
      ]
    },
    {
      "cell_type": "code",
      "execution_count": null,
      "id": "7c159aa8",
      "metadata": {
        "id": "7c159aa8"
      },
      "outputs": [],
      "source": [
        "dfi = data_preproc(inp)"
      ]
    },
    {
      "cell_type": "code",
      "execution_count": null,
      "id": "19c22837",
      "metadata": {
        "id": "19c22837",
        "outputId": "67b47e67-b964-4634-b53e-f37c0b2b91e7"
      },
      "outputs": [
        {
          "name": "stdout",
          "output_type": "stream",
          "text": [
            "(34015, 170)\n"
          ]
        }
      ],
      "source": [
        "print(dfi.shape)"
      ]
    },
    {
      "cell_type": "code",
      "execution_count": null,
      "id": "c646b44b",
      "metadata": {
        "id": "c646b44b",
        "outputId": "8958a783-badf-4cdd-aef8-b4085308f83c"
      },
      "outputs": [
        {
          "data": {
            "text/html": [
              "<div>\n",
              "<style scoped>\n",
              "    .dataframe tbody tr th:only-of-type {\n",
              "        vertical-align: middle;\n",
              "    }\n",
              "\n",
              "    .dataframe tbody tr th {\n",
              "        vertical-align: top;\n",
              "    }\n",
              "\n",
              "    .dataframe thead th {\n",
              "        text-align: right;\n",
              "    }\n",
              "</style>\n",
              "<table border=\"1\" class=\"dataframe\">\n",
              "  <thead>\n",
              "    <tr style=\"text-align: right;\">\n",
              "      <th></th>\n",
              "      <th>DeviceVendor</th>\n",
              "      <th>DeviceProduct</th>\n",
              "      <th>DeviceVersion</th>\n",
              "      <th>DeviceEventClassID</th>\n",
              "      <th>Name</th>\n",
              "      <th>DeviceName</th>\n",
              "      <th>Severity</th>\n",
              "      <th>DeviceSeverity</th>\n",
              "      <th>CEFVersion</th>\n",
              "      <th>eventId</th>\n",
              "      <th>...</th>\n",
              "      <th>Old User Account Control Value</th>\n",
              "      <th>New User Account Control Value</th>\n",
              "      <th>Changes in User Account Control</th>\n",
              "      <th>ad.OldUacValue</th>\n",
              "      <th>ad.DnsHostName</th>\n",
              "      <th>ad.NewUacValue</th>\n",
              "      <th>ad.UserAccountControl</th>\n",
              "      <th>ad.ServicePrincipalNames</th>\n",
              "      <th>ad.ComputerAccountChange</th>\n",
              "      <th>Account Domain and Name</th>\n",
              "    </tr>\n",
              "  </thead>\n",
              "  <tbody>\n",
              "    <tr>\n",
              "      <th>0</th>\n",
              "      <td>1</td>\n",
              "      <td>1</td>\n",
              "      <td>2</td>\n",
              "      <td>16</td>\n",
              "      <td>4</td>\n",
              "      <td>4</td>\n",
              "      <td>1</td>\n",
              "      <td>1</td>\n",
              "      <td>0</td>\n",
              "      <td>0</td>\n",
              "      <td>...</td>\n",
              "      <td>1</td>\n",
              "      <td>1</td>\n",
              "      <td>1</td>\n",
              "      <td>3</td>\n",
              "      <td>1</td>\n",
              "      <td>3</td>\n",
              "      <td>3</td>\n",
              "      <td>1</td>\n",
              "      <td>1</td>\n",
              "      <td>2</td>\n",
              "    </tr>\n",
              "    <tr>\n",
              "      <th>1</th>\n",
              "      <td>1</td>\n",
              "      <td>1</td>\n",
              "      <td>2</td>\n",
              "      <td>14</td>\n",
              "      <td>11</td>\n",
              "      <td>11</td>\n",
              "      <td>3</td>\n",
              "      <td>3</td>\n",
              "      <td>0</td>\n",
              "      <td>1</td>\n",
              "      <td>...</td>\n",
              "      <td>1</td>\n",
              "      <td>1</td>\n",
              "      <td>1</td>\n",
              "      <td>3</td>\n",
              "      <td>1</td>\n",
              "      <td>3</td>\n",
              "      <td>3</td>\n",
              "      <td>1</td>\n",
              "      <td>1</td>\n",
              "      <td>2</td>\n",
              "    </tr>\n",
              "    <tr>\n",
              "      <th>2</th>\n",
              "      <td>1</td>\n",
              "      <td>1</td>\n",
              "      <td>2</td>\n",
              "      <td>15</td>\n",
              "      <td>12</td>\n",
              "      <td>12</td>\n",
              "      <td>1</td>\n",
              "      <td>1</td>\n",
              "      <td>0</td>\n",
              "      <td>2</td>\n",
              "      <td>...</td>\n",
              "      <td>1</td>\n",
              "      <td>1</td>\n",
              "      <td>1</td>\n",
              "      <td>3</td>\n",
              "      <td>1</td>\n",
              "      <td>3</td>\n",
              "      <td>3</td>\n",
              "      <td>1</td>\n",
              "      <td>1</td>\n",
              "      <td>2</td>\n",
              "    </tr>\n",
              "    <tr>\n",
              "      <th>3</th>\n",
              "      <td>1</td>\n",
              "      <td>1</td>\n",
              "      <td>2</td>\n",
              "      <td>16</td>\n",
              "      <td>4</td>\n",
              "      <td>4</td>\n",
              "      <td>1</td>\n",
              "      <td>1</td>\n",
              "      <td>0</td>\n",
              "      <td>3</td>\n",
              "      <td>...</td>\n",
              "      <td>1</td>\n",
              "      <td>1</td>\n",
              "      <td>1</td>\n",
              "      <td>3</td>\n",
              "      <td>1</td>\n",
              "      <td>3</td>\n",
              "      <td>3</td>\n",
              "      <td>1</td>\n",
              "      <td>1</td>\n",
              "      <td>2</td>\n",
              "    </tr>\n",
              "    <tr>\n",
              "      <th>4</th>\n",
              "      <td>1</td>\n",
              "      <td>1</td>\n",
              "      <td>2</td>\n",
              "      <td>14</td>\n",
              "      <td>11</td>\n",
              "      <td>11</td>\n",
              "      <td>3</td>\n",
              "      <td>3</td>\n",
              "      <td>0</td>\n",
              "      <td>4</td>\n",
              "      <td>...</td>\n",
              "      <td>1</td>\n",
              "      <td>1</td>\n",
              "      <td>1</td>\n",
              "      <td>3</td>\n",
              "      <td>1</td>\n",
              "      <td>3</td>\n",
              "      <td>3</td>\n",
              "      <td>1</td>\n",
              "      <td>1</td>\n",
              "      <td>2</td>\n",
              "    </tr>\n",
              "  </tbody>\n",
              "</table>\n",
              "<p>5 rows × 170 columns</p>\n",
              "</div>"
            ],
            "text/plain": [
              "   DeviceVendor  DeviceProduct  DeviceVersion  DeviceEventClassID  Name  \\\n",
              "0             1              1              2                  16     4   \n",
              "1             1              1              2                  14    11   \n",
              "2             1              1              2                  15    12   \n",
              "3             1              1              2                  16     4   \n",
              "4             1              1              2                  14    11   \n",
              "\n",
              "   DeviceName  Severity  DeviceSeverity  CEFVersion  eventId  ...  \\\n",
              "0           4         1               1           0        0  ...   \n",
              "1          11         3               3           0        1  ...   \n",
              "2          12         1               1           0        2  ...   \n",
              "3           4         1               1           0        3  ...   \n",
              "4          11         3               3           0        4  ...   \n",
              "\n",
              "   Old User Account Control Value  New User Account Control Value  \\\n",
              "0                               1                               1   \n",
              "1                               1                               1   \n",
              "2                               1                               1   \n",
              "3                               1                               1   \n",
              "4                               1                               1   \n",
              "\n",
              "   Changes in User Account Control  ad.OldUacValue  ad.DnsHostName  \\\n",
              "0                                1               3               1   \n",
              "1                                1               3               1   \n",
              "2                                1               3               1   \n",
              "3                                1               3               1   \n",
              "4                                1               3               1   \n",
              "\n",
              "   ad.NewUacValue  ad.UserAccountControl  ad.ServicePrincipalNames  \\\n",
              "0               3                      3                         1   \n",
              "1               3                      3                         1   \n",
              "2               3                      3                         1   \n",
              "3               3                      3                         1   \n",
              "4               3                      3                         1   \n",
              "\n",
              "   ad.ComputerAccountChange  Account Domain and Name  \n",
              "0                         1                        2  \n",
              "1                         1                        2  \n",
              "2                         1                        2  \n",
              "3                         1                        2  \n",
              "4                         1                        2  \n",
              "\n",
              "[5 rows x 170 columns]"
            ]
          },
          "execution_count": 30,
          "metadata": {},
          "output_type": "execute_result"
        }
      ],
      "source": [
        "dfi.head()"
      ]
    },
    {
      "cell_type": "code",
      "execution_count": null,
      "id": "024a1a27",
      "metadata": {
        "id": "024a1a27"
      },
      "outputs": [],
      "source": [
        "def IF(tempdf,ini_tempdf):\n",
        "    global df1\n",
        "    temp = tempdf\n",
        "    scaler=StandardScaler()\n",
        "    scaler.fit(temp)\n",
        "    scaled_data=scaler.transform(temp)\n",
        "    pca=PCA(n_components=2)\n",
        "    pca.fit(scaled_data)\n",
        "    x_pca = pca.transform(scaled_data)\n",
        "    temp = pd.DataFrame(data = x_pca, index = list(range(0,len(x_pca[:,0]))), columns = [\"prop1\",\"prop2\"])\n",
        "    X1 = temp['prop1'].values.reshape(-1,1)\n",
        "    X2 = temp['prop2'].values.reshape(-1,1)\n",
        "    X = np.concatenate((X1,X2),axis=1)\n",
        "    print(len(X1))\n",
        "    print(len(X2))\n",
        "    outliers_fraction = 0.05\n",
        "    xx , yy = np.meshgrid(np.linspace(0, 1, 100), np.linspace(0, 1, 100))\n",
        "  \n",
        "    obj = load('if.joblib')\n",
        "    y_pred = obj.predict(X)\n",
        "    scores_pred = obj.decision_function(X) * -1\n",
        "  \n",
        "    n_inliers = len(y_pred) - np.count_nonzero(y_pred)\n",
        "    n_outliers = np.count_nonzero(y_pred == 1)\n",
        "    plt.figure(figsize=(8, 8))\n",
        "  # copy of dataframe\n",
        "    df1 = ini_tempdf\n",
        "    outlier_list = y_pred.tolist()\n",
        "    df1['Outlier']=outlier_list\n",
        "    df1['LineId'] = [x for x in range(len(outlier_list)) ]\n",
        "    \n",
        "  # sales - inlier feature 1,  profit - inlier feature 2\n",
        "    inliers_sales = np.array(temp['prop1'][df1['Outlier'] == 0]).reshape(-1,1)\n",
        "    inliers_profit = np.array(temp['prop2'][df1['Outlier'] == 0]).reshape(-1,1)\n",
        "    \n",
        "  # sales - outlier feature 1, profit - outlier feature 2\n",
        "    outliers_sales = temp['prop1'][df1['Outlier'] == 1].values.reshape(-1,1)\n",
        "    outliers_profit = temp['prop2'][df1['Outlier'] == 1].values.reshape(-1,1)\n",
        "         \n",
        "    print('OUTLIERS:',n_outliers,'INLIERS:',n_inliers)\n",
        "#    return ini_tempdf"
      ]
    },
    {
      "cell_type": "code",
      "execution_count": null,
      "id": "1b346fd3",
      "metadata": {
        "id": "1b346fd3"
      },
      "outputs": [],
      "source": [
        "df1 = pd.DataFrame()"
      ]
    },
    {
      "cell_type": "code",
      "execution_count": null,
      "id": "b337fcfb",
      "metadata": {
        "scrolled": false,
        "id": "b337fcfb",
        "outputId": "d7d02c38-9b87-4508-b2de-7db31b77010a"
      },
      "outputs": [
        {
          "name": "stdout",
          "output_type": "stream",
          "text": [
            "34015\n",
            "34015\n",
            "OUTLIERS: 6583 INLIERS: 27432\n"
          ]
        },
        {
          "data": {
            "text/plain": [
              "<Figure size 576x576 with 0 Axes>"
            ]
          },
          "metadata": {},
          "output_type": "display_data"
        }
      ],
      "source": [
        "IF(dfi,inp_df)"
      ]
    },
    {
      "cell_type": "code",
      "execution_count": null,
      "id": "8eef76eb",
      "metadata": {
        "id": "8eef76eb",
        "outputId": "4b16af53-86a9-42dd-91a8-ac97c9348566"
      },
      "outputs": [
        {
          "data": {
            "text/html": [
              "<div>\n",
              "<style scoped>\n",
              "    .dataframe tbody tr th:only-of-type {\n",
              "        vertical-align: middle;\n",
              "    }\n",
              "\n",
              "    .dataframe tbody tr th {\n",
              "        vertical-align: top;\n",
              "    }\n",
              "\n",
              "    .dataframe thead th {\n",
              "        text-align: right;\n",
              "    }\n",
              "</style>\n",
              "<table border=\"1\" class=\"dataframe\">\n",
              "  <thead>\n",
              "    <tr style=\"text-align: right;\">\n",
              "      <th></th>\n",
              "      <th>0</th>\n",
              "      <th>Outlier</th>\n",
              "      <th>LineId</th>\n",
              "    </tr>\n",
              "  </thead>\n",
              "  <tbody>\n",
              "    <tr>\n",
              "      <th>0</th>\n",
              "      <td>CEF:0|Microsoft|Microsoft Windows|Windows Serv...</td>\n",
              "      <td>0</td>\n",
              "      <td>0</td>\n",
              "    </tr>\n",
              "    <tr>\n",
              "      <th>1</th>\n",
              "      <td>CEF:0|Microsoft|Microsoft Windows|Windows Serv...</td>\n",
              "      <td>1</td>\n",
              "      <td>1</td>\n",
              "    </tr>\n",
              "    <tr>\n",
              "      <th>2</th>\n",
              "      <td>CEF:0|Microsoft|Microsoft Windows|Windows Serv...</td>\n",
              "      <td>0</td>\n",
              "      <td>2</td>\n",
              "    </tr>\n",
              "    <tr>\n",
              "      <th>3</th>\n",
              "      <td>CEF:0|Microsoft|Microsoft Windows|Windows Serv...</td>\n",
              "      <td>0</td>\n",
              "      <td>3</td>\n",
              "    </tr>\n",
              "    <tr>\n",
              "      <th>4</th>\n",
              "      <td>CEF:0|Microsoft|Microsoft Windows|Windows Serv...</td>\n",
              "      <td>1</td>\n",
              "      <td>4</td>\n",
              "    </tr>\n",
              "    <tr>\n",
              "      <th>...</th>\n",
              "      <td>...</td>\n",
              "      <td>...</td>\n",
              "      <td>...</td>\n",
              "    </tr>\n",
              "    <tr>\n",
              "      <th>34010</th>\n",
              "      <td>CEF:0|Microsoft|Microsoft Windows|Windows Serv...</td>\n",
              "      <td>0</td>\n",
              "      <td>34010</td>\n",
              "    </tr>\n",
              "    <tr>\n",
              "      <th>34011</th>\n",
              "      <td>CEF:0|Microsoft|Microsoft Windows|Windows Serv...</td>\n",
              "      <td>0</td>\n",
              "      <td>34011</td>\n",
              "    </tr>\n",
              "    <tr>\n",
              "      <th>34012</th>\n",
              "      <td>CEF:0|Microsoft|System or Application Event|Wi...</td>\n",
              "      <td>0</td>\n",
              "      <td>34012</td>\n",
              "    </tr>\n",
              "    <tr>\n",
              "      <th>34013</th>\n",
              "      <td>CEF:0|Microsoft|Microsoft Windows|Windows Serv...</td>\n",
              "      <td>0</td>\n",
              "      <td>34013</td>\n",
              "    </tr>\n",
              "    <tr>\n",
              "      <th>34014</th>\n",
              "      <td>CEF:0|Microsoft|Microsoft Windows|Windows Serv...</td>\n",
              "      <td>0</td>\n",
              "      <td>34014</td>\n",
              "    </tr>\n",
              "  </tbody>\n",
              "</table>\n",
              "<p>34015 rows × 3 columns</p>\n",
              "</div>"
            ],
            "text/plain": [
              "                                                       0  Outlier  LineId\n",
              "0      CEF:0|Microsoft|Microsoft Windows|Windows Serv...        0       0\n",
              "1      CEF:0|Microsoft|Microsoft Windows|Windows Serv...        1       1\n",
              "2      CEF:0|Microsoft|Microsoft Windows|Windows Serv...        0       2\n",
              "3      CEF:0|Microsoft|Microsoft Windows|Windows Serv...        0       3\n",
              "4      CEF:0|Microsoft|Microsoft Windows|Windows Serv...        1       4\n",
              "...                                                  ...      ...     ...\n",
              "34010  CEF:0|Microsoft|Microsoft Windows|Windows Serv...        0   34010\n",
              "34011  CEF:0|Microsoft|Microsoft Windows|Windows Serv...        0   34011\n",
              "34012  CEF:0|Microsoft|System or Application Event|Wi...        0   34012\n",
              "34013  CEF:0|Microsoft|Microsoft Windows|Windows Serv...        0   34013\n",
              "34014  CEF:0|Microsoft|Microsoft Windows|Windows Serv...        0   34014\n",
              "\n",
              "[34015 rows x 3 columns]"
            ]
          },
          "execution_count": 49,
          "metadata": {},
          "output_type": "execute_result"
        }
      ],
      "source": [
        "df1"
      ]
    },
    {
      "cell_type": "code",
      "execution_count": null,
      "id": "53eecf20",
      "metadata": {
        "id": "53eecf20"
      },
      "outputs": [],
      "source": [
        "df1_dict = df1.to_dict(orient=\"records\")"
      ]
    },
    {
      "cell_type": "code",
      "execution_count": null,
      "id": "303c7ec0",
      "metadata": {
        "id": "303c7ec0",
        "outputId": "149bb14e-88f6-479d-a582-abe84fa9b2d1"
      },
      "outputs": [
        {
          "name": "stderr",
          "output_type": "stream",
          "text": [
            "/home/hitesh/Desktop/pyod_project/tasl/lib/python3.8/site-packages/elasticsearch/connection/base.py:208: ElasticsearchWarning: Elasticsearch built-in security features are not enabled. Without authentication, your cluster could be accessible to anyone. See https://www.elastic.co/guide/en/elasticsearch/reference/7.13/security-minimal-setup.html to enable security.\n",
            "  warnings.warn(message, category=ElasticsearchWarning)\n"
          ]
        }
      ],
      "source": [
        "if es.indices.exists(index=\"output_cef-log-index\")==True:\n",
        "    es.indices.delete(index=\"output_cef-log-index\")\n",
        "else:\n",
        "    pass"
      ]
    },
    {
      "cell_type": "code",
      "execution_count": null,
      "id": "345ed951",
      "metadata": {
        "id": "345ed951"
      },
      "outputs": [],
      "source": [
        ""
      ]
    },
    {
      "cell_type": "code",
      "execution_count": null,
      "id": "d5e41498",
      "metadata": {
        "id": "d5e41498"
      },
      "outputs": [],
      "source": [
        "if es.indices.exists(index=\"output_cef-log-index\")==True:\n",
        "    count_op = es.count(index=\"output_cef-log-index\",body='{\"query\":{\"match_all\":{}}}')['count']\n",
        "    if count_op!=0:\n",
        "        for i in range(1,count+1):\n",
        "            es.delete(index=\"output_cef-log-index\",id=i)\n",
        "else:\n",
        "    es.indices.create(index=\"output_cef-log-index\")"
      ]
    },
    {
      "cell_type": "code",
      "execution_count": null,
      "id": "16ee83a6",
      "metadata": {
        "id": "16ee83a6"
      },
      "outputs": [],
      "source": [
        "for i in range(1,(len(df1_dict)+1)):\n",
        "    es.index(index=\"output_cef-log-index\",id=i,body=df1_dict[(i-1)])"
      ]
    },
    {
      "cell_type": "code",
      "execution_count": null,
      "id": "b4f75f7f",
      "metadata": {
        "id": "b4f75f7f",
        "outputId": "3688d74c-5d09-497b-c131-aee9fb272a65"
      },
      "outputs": [
        {
          "data": {
            "text/plain": [
              "{'_shards': {'total': 2, 'successful': 1, 'failed': 0}}"
            ]
          },
          "execution_count": 54,
          "metadata": {},
          "output_type": "execute_result"
        }
      ],
      "source": [
        "es.indices.refresh(index=\"output_cef-log-index\")"
      ]
    },
    {
      "cell_type": "code",
      "execution_count": null,
      "id": "5cc8441b",
      "metadata": {
        "id": "5cc8441b"
      },
      "outputs": [],
      "source": [
        "count_op = es.count(index=\"output_cef-log-index\",body='{\"query\":{\"match_all\":{}}}')['count']"
      ]
    },
    {
      "cell_type": "code",
      "execution_count": null,
      "id": "6b160a39",
      "metadata": {
        "id": "6b160a39",
        "outputId": "90af00b0-be71-4a5e-fe33-a04ca6fc4302"
      },
      "outputs": [
        {
          "data": {
            "text/plain": [
              "34015"
            ]
          },
          "execution_count": 56,
          "metadata": {},
          "output_type": "execute_result"
        }
      ],
      "source": [
        "count_op"
      ]
    },
    {
      "cell_type": "code",
      "execution_count": null,
      "id": "7ee7f4c7",
      "metadata": {
        "id": "7ee7f4c7"
      },
      "outputs": [],
      "source": [
        ""
      ]
    },
    {
      "cell_type": "code",
      "execution_count": null,
      "id": "e31ea154",
      "metadata": {
        "id": "e31ea154"
      },
      "outputs": [],
      "source": [
        ""
      ]
    },
    {
      "cell_type": "code",
      "execution_count": null,
      "id": "2c8a10b0",
      "metadata": {
        "id": "2c8a10b0"
      },
      "outputs": [],
      "source": [
        ""
      ]
    }
  ],
  "metadata": {
    "kernelspec": {
      "display_name": "Python 3 (ipykernel)",
      "language": "python",
      "name": "python3"
    },
    "language_info": {
      "codemirror_mode": {
        "name": "ipython",
        "version": 3
      },
      "file_extension": ".py",
      "mimetype": "text/x-python",
      "name": "python",
      "nbconvert_exporter": "python",
      "pygments_lexer": "ipython3",
      "version": "3.8.10"
    },
    "colab": {
      "name": "ELK_Live_log_OD.ipynb",
      "provenance": []
    }
  },
  "nbformat": 4,
  "nbformat_minor": 5
}